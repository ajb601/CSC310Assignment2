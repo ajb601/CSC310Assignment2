{
 "cells": [
  {
   "cell_type": "code",
   "execution_count": 27,
   "id": "b46604cd",
   "metadata": {
    "scrolled": true
   },
   "outputs": [
    {
     "name": "stdout",
     "output_type": "stream",
     "text": [
      "if outlook_overcast =< 0.5: \n",
      "  |then if humidity =< 82.5: \n",
      "  |  |then if temperature =< 66.5: \n",
      "  |  |  |then no\n",
      "  |  |  |else yes\n",
      "  |  |else if temperature =< 70.5: \n",
      "  |  |  |then yes\n",
      "  |  |  |else no\n",
      "  |else yes\n",
      "<------->\n",
      "Tree Depth:  3\n",
      "Accuracy on the training data: 1.0\n",
      "\n",
      "The decision tree model perfectly predicts when tennis will be played based on the weather, matching exactly with\n",
      "the data. If it's overcast, the model says tennis will always be played, which is true according to the data.\n",
      "When it's not overcast, whether tennis is played depends on humidity and temperature. Generally, more humidity\n",
      "means no tennis, but there are exceptions.\n"
     ]
    }
   ],
   "source": [
    "import pandas as pd\n",
    "from sklearn import tree\n",
    "from sklearn.metrics import accuracy_score\n",
    "from treeviz import tree_print\n",
    "\n",
    "data = pd.read_csv('tennis_numeric.csv')\n",
    "x = data.drop('play', axis=1)\n",
    "y = data['play']  \n",
    "\n",
    "classifier = tree.DecisionTreeClassifier(max_depth=3)\n",
    "\n",
    "classifier.fit(x, y)\n",
    "\n",
    "tree_print(classifier, x)\n",
    "\n",
    "predict = classifier.predict(x)\n",
    "\n",
    "accuracy = accuracy_score(y, predict)\n",
    "print(f\"Accuracy on the training data: {accuracy}\\n\")\n",
    "\n",
    "print(f\"The decision tree model perfectly predicts when tennis will be played based on the weather, matching exactly with\\nthe data. If it's overcast, the model says tennis will always be played, which is true according to the data.\\nWhen it's not overcast, whether tennis is played depends on humidity and temperature. Generally, more humidity\\nmeans no tennis, but there are exceptions.\")"
   ]
  },
  {
   "cell_type": "code",
   "execution_count": 30,
   "id": "1a800400",
   "metadata": {},
   "outputs": [
    {
     "name": "stdout",
     "output_type": "stream",
     "text": [
      "if petal_length =< 2.449999988079071: \n",
      "  |then 0\n",
      "  |else if petal_length =< 4.75: \n",
      "  |  |then if petal_width =< 1.6500000357627869: \n",
      "  |  |  |then 1\n",
      "  |  |  |else 2\n",
      "  |  |else if petal_width =< 1.75: \n",
      "  |  |  |then if petal_length =< 4.950000047683716: \n",
      "  |  |  |  |then 1\n",
      "  |  |  |  |else if petal_width =< 1.550000011920929: \n",
      "  |  |  |  |  |then 2\n",
      "  |  |  |  |  |else if petal_length =< 5.450000047683716: \n",
      "  |  |  |  |  |  |then 1\n",
      "  |  |  |  |  |  |else 2\n",
      "  |  |  |else if petal_length =< 4.8500001430511475: \n",
      "  |  |  |  |then if sepal_width =< 3.100000023841858: \n",
      "  |  |  |  |  |then 2\n",
      "  |  |  |  |  |else 1\n",
      "  |  |  |  |else 2\n",
      "<---------------->\n",
      "Tree Depth:  6\n",
      "Accuracy in the training data: 1.0\n",
      "Accuracy on the testing data: 1.0\n",
      "\n",
      "The decision tree model accurately classifies the three types of Iris flowers by focusing on the size of their\n",
      "petals. It easily separates Iris setosa because of its smaller petals. Then, it uses petal size to tell Iris\n",
      "versicolor and Iris virginica apart, achieving perfect accuracy. This shows how well decision trees can identify\n",
      "flower types based on simple measurements.\n"
     ]
    }
   ],
   "source": [
    "import pandas as pd\n",
    "from sklearn import tree\n",
    "from sklearn.metrics import accuracy_score\n",
    "from treeviz import tree_print\n",
    "from sklearn.model_selection import train_test_split\n",
    "\n",
    "column_names = ['sepal_length', 'sepal_width', 'petal_length', 'petal_width', 'species']\n",
    "\n",
    "df = pd.read_csv('/Users/partybunk/Downloads/iris/iris.data', header=None, names=column_names)\n",
    "\n",
    "species_numeric = pd.Categorical(df['species']).codes\n",
    "df['species'] = species_numeric\n",
    "\n",
    "x = df.drop('species', axis=1)\n",
    "y = df['species']\n",
    "\n",
    "x_train, x_test, y_train, y_test = train_test_split(x, y, test_size=0.2, random_state=42)\n",
    "\n",
    "classifier = tree.DecisionTreeClassifier(max_depth=6)\n",
    "classifier.fit(x_train, y_train)\n",
    "\n",
    "tree_print(classifier, x_train)\n",
    "\n",
    "# Evaluate the model's accuracy on the training data\n",
    "y_pred_train = classifier.predict(x_train)\n",
    "accuracy = accuracy_score(y_train, y_pred_train)\n",
    "print(f\"Accuracy in the training data: {accuracy}\")\n",
    "\n",
    "# Evaluate the model's accuracy on the testing data\n",
    "y_pred_test = classifier.predict(x_test)\n",
    "accuracy_test = accuracy_score(y_test, y_pred_test)\n",
    "print(f\"Accuracy on the testing data: {accuracy_test}\\n\")\n",
    "\n",
    "print(f\"The decision tree model accurately classifies the three types of Iris flowers by focusing on the size of their\\npetals. It easily separates Iris setosa because of its smaller petals. Then, it uses petal size to tell Iris\\nversicolor and Iris virginica apart, achieving perfect accuracy. This shows how well decision trees can identify\\nflower types based on simple measurements.\")"
   ]
  },
  {
   "cell_type": "code",
   "execution_count": null,
   "id": "06fb32c5",
   "metadata": {},
   "outputs": [],
   "source": []
  }
 ],
 "metadata": {
  "kernelspec": {
   "display_name": "Python 3 (ipykernel)",
   "language": "python",
   "name": "python3"
  },
  "language_info": {
   "codemirror_mode": {
    "name": "ipython",
    "version": 3
   },
   "file_extension": ".py",
   "mimetype": "text/x-python",
   "name": "python",
   "nbconvert_exporter": "python",
   "pygments_lexer": "ipython3",
   "version": "3.11.5"
  }
 },
 "nbformat": 4,
 "nbformat_minor": 5
}
