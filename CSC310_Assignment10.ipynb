{
  "nbformat": 4,
  "nbformat_minor": 0,
  "metadata": {
    "colab": {
      "provenance": []
    },
    "kernelspec": {
      "name": "python3",
      "display_name": "Python 3"
    },
    "language_info": {
      "name": "python"
    }
  },
  "cells": [
    {
      "cell_type": "code",
      "execution_count": 16,
      "metadata": {
        "colab": {
          "base_uri": "https://localhost:8080/"
        },
        "id": "4tng-mtmsmVx",
        "outputId": "4af5803f-0eca-4d80-fccd-c8d39db96acc"
      },
      "outputs": [
        {
          "output_type": "stream",
          "name": "stdout",
          "text": [
            "Drive already mounted at /content/drive; to attempt to forcibly remount, call drive.mount(\"/content/drive\", force_remount=True).\n",
            "['ability' 'able' 'abortion' 'access' 'according' 'account' 'accused'\n",
            " 'act' 'action' 'actions']\n",
            "Accuracy: 0.865\n",
            "95% CI: (0.8176395291408541, 0.9123604708591458)\n",
            "Index(['title', 'text', 'label'], dtype='object')\n"
          ]
        }
      ],
      "source": [
        "from google.colab import drive\n",
        "import pandas as pd\n",
        "import numpy as np\n",
        "from sklearn.feature_extraction.text import CountVectorizer, TfidfVectorizer\n",
        "from sklearn.model_selection import train_test_split, ShuffleSplit\n",
        "from sklearn.naive_bayes import MultinomialNB\n",
        "from sklearn import metrics\n",
        "import matplotlib.pyplot as plt\n",
        "\n",
        "# Mount Google Drive\n",
        "drive.mount('/content/drive')\n",
        "\n",
        "# Load your dataset\n",
        "df = pd.read_csv('/content/drive/My Drive/Colab Notebooks/fake_or_real_news.csv')\n",
        "\n",
        "df = df[['title', 'text', 'label']].sample(n=1000, random_state=42)\n",
        "\n",
        "vectorizer = TfidfVectorizer(stop_words='english', token_pattern=r'\\b[a-zA-Z]{3,}\\b', min_df=5, max_df=0.7, ngram_range=(1,2), max_features=1000)\n",
        "X = vectorizer.fit_transform(df['text'])\n",
        "y = df['label']\n",
        "\n",
        "print(vectorizer.get_feature_names_out()[:10])\n",
        "\n",
        "X_train, X_test, y_train, y_test = train_test_split(X, y, test_size=0.2, random_state=42)\n",
        "clf = MultinomialNB()\n",
        "clf.fit(X_train, y_train)\n",
        "predicted = clf.predict(X_test)\n",
        "accuracy = metrics.accuracy_score(y_test, predicted)\n",
        "interval = 1.96 * np.sqrt((accuracy * (1 - accuracy)) / len(y_test))\n",
        "print(\"Accuracy:\", accuracy)\n",
        "print(\"95% CI:\", (accuracy - interval, accuracy + interval))\n",
        "\n",
        "print(df.columns)\n"
      ]
    },
    {
      "cell_type": "code",
      "source": [
        "vectorizer_wo_stopwords = TfidfVectorizer(stop_words=None, max_features=1000)\n",
        "X_wo_stopwords = vectorizer_wo_stopwords.fit_transform(df['text'])\n",
        "\n",
        "y = df['label']\n",
        "X_train, X_test, y_train, y_test = train_test_split(X_wo_stopwords, y, test_size=0.2, random_state=42)\n",
        "\n",
        "clf_wo_stopwords = MultinomialNB()\n",
        "clf_wo_stopwords.fit(X_train, y_train)\n",
        "predicted_wo_stopwords = clf_wo_stopwords.predict(X_test)\n",
        "accuracy_wo_stopwords = metrics.accuracy_score(y_test, predicted_wo_stopwords)\n",
        "print(\"Accuracy without stopwords:\", accuracy_wo_stopwords)\n",
        "\n",
        "interval_wo_stopwords = 1.96 * np.sqrt((accuracy_wo_stopwords * (1 - accuracy_wo_stopwords)) / len(y_test))\n",
        "print(\"95% CI without stopwords:\", (accuracy_wo_stopwords - interval_wo_stopwords, accuracy_wo_stopwords + interval_wo_stopwords))\n"
      ],
      "metadata": {
        "colab": {
          "base_uri": "https://localhost:8080/"
        },
        "id": "1iTh-t24zZuR",
        "outputId": "0615043a-79d9-42d9-ee66-1290fed63ede"
      },
      "execution_count": 10,
      "outputs": [
        {
          "output_type": "stream",
          "name": "stdout",
          "text": [
            "Accuracy without stopwords: 0.845\n",
            "95% CI without stopwords: (0.7948425698425448, 0.8951574301574552)\n"
          ]
        }
      ]
    },
    {
      "cell_type": "markdown",
      "source": [
        "First 10: ability, able, abortion, access, according, account, accused, act, action, actions\n",
        "\n",
        "For the Naive Bayes classifier trained with stopwords removed, the  accuracy was: 0.865\n",
        "\n",
        "The 95% confidence interval for this classifier is: (81.8%, 91.2%)\n",
        "\n",
        "With Stopwords Removed: Accuracy was 0.865.\n",
        "Without Stopwords Removed: Accuracy dropped to 0.845.\n",
        "The respective 95% confidence intervals were:\n",
        "\n",
        "With Stopwords Removed: CI = (81.8%, 91.2%)\n",
        "Without Stopwords Removed: CI = (79.5%, 89.5%)\n",
        "\n",
        "There is a difference in accuracy depending on whether stopwords are removed or not. Removing stopwords resulted in a slightly higher accuracy, suggesting that this preprocessing step helped in focusing the model on more meaningful content, thereby improving its performance in distinguishing real news from fake news. This indicates the effectiveness of the preprocessing steps applied."
      ],
      "metadata": {
        "id": "f6q_PBJT0pP3"
      }
    },
    {
      "cell_type": "code",
      "source": [
        "# Extra Credit\n",
        "\n",
        "vectorizer_title = TfidfVectorizer(stop_words='english', max_features=1000)\n",
        "X_title = vectorizer_title.fit_transform(df['title'])\n",
        "y_title = df['label']\n",
        "\n",
        "X_train_title, X_test_title, y_train_title, y_test_title = train_test_split(X_title, y_title, test_size=0.2, random_state=42)\n",
        "\n",
        "clf_title = MultinomialNB()\n",
        "clf_title.fit(X_train_title, y_train_title)\n",
        "\n",
        "predicted_title = clf_title.predict(X_test_title)\n",
        "accuracy_title = metrics.accuracy_score(y_test_title, predicted_title)\n",
        "print(\"Accuracy with titles:\", accuracy_title)\n",
        "\n",
        "interval_title = 1.96 * np.sqrt((accuracy_title * (1 - accuracy_title)) / len(y_test_title))\n",
        "print(\"95% CI for titles:\", (accuracy_title - interval_title, accuracy_title + interval_title))"
      ],
      "metadata": {
        "colab": {
          "base_uri": "https://localhost:8080/"
        },
        "id": "b2nKm0sQ1veU",
        "outputId": "ecd6e80b-86ba-4775-eff4-614c20089adf"
      },
      "execution_count": 17,
      "outputs": [
        {
          "output_type": "stream",
          "name": "stdout",
          "text": [
            "Accuracy with titles: 0.71\n",
            "95% CI for titles: (0.6471117880680329, 0.772888211931967)\n"
          ]
        }
      ]
    },
    {
      "cell_type": "markdown",
      "source": [
        "Accuracy: 71%.\n",
        "\n",
        "95% Confidence Interval: 64.71% to 77.29%\n",
        "\n",
        "Comparison with Text Model:\n",
        "\n",
        "Text Classifier achieved an accuracy of 86.5%.\n",
        "Title Classifier achieved an accuracy of 71%.\n",
        "There is a noticeable difference of 15.5% in accuracy, with the text  classifier performing better.\n",
        "\n",
        "Text Classifier 95% CI was (81.76%, 91.24%).\n",
        "Title Classifier 95% CI was (64.71%, 77.29%).\n",
        "The text  classifier not only showed higher accuracy but also a tighter confidence interval, suggesting more stable and reliable performance across different samples."
      ],
      "metadata": {
        "id": "Uu7zY4Uq308G"
      }
    }
  ]
}